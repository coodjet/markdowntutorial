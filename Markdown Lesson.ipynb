{
 "cells": [
  {
   "cell_type": "markdown",
   "id": "3b5716ad",
   "metadata": {},
   "source": [
    "# `HEADINGS`"
   ]
  },
  {
   "cell_type": "markdown",
   "id": "e9604277",
   "metadata": {},
   "source": [
    "Headings are used to organize contents into sections. There are 6 levels from *h1* to h6 with *h1* being the biggest and h6 being the smallest. Normally, there should be only one h1 heading in your whole file, which is the title of the document. Other sections will begin with h2 headings.\n",
    "\n",
    "Although Markdown allows up to 6 levels, you should never use beyond h3. Nesting your contents too deep make it hard to follow, thus keep your contents as flat as possible. This is also one of the guiding principles of Zen of Python - Flat is better than nested. I personally usually use h1 and h2 only.\n",
    "\n",
    "A heading starts with #. The number of # indicates the heading level, for example"
   ]
  },
  {
   "cell_type": "markdown",
   "id": "9a404366",
   "metadata": {},
   "source": [
    "# Level 1\n",
    "## Level 2\n",
    "### Level 3\n",
    "#### Level 4\n",
    "##### Level 5\n",
    "###### Level 6"
   ]
  },
  {
   "cell_type": "markdown",
   "id": "4e869bcf",
   "metadata": {},
   "source": [
    "# Paragraphs"
   ]
  },
  {
   "cell_type": "markdown",
   "id": "43b5050a",
   "metadata": {},
   "source": [
    "Two paragraphs are separated by a blank line. One common mistake is just using Enter and start writing the new paragraph. It will not work, you must add a blank line between graphs.\n",
    "\n",
    "Here is the wrong way"
   ]
  },
  {
   "cell_type": "markdown",
   "id": "897122f4",
   "metadata": {},
   "source": [
    "**Paragraph 1**\n",
    "\n",
    "**Paragraph 2**"
   ]
  },
  {
   "cell_type": "markdown",
   "id": "f076af1c",
   "metadata": {},
   "source": [
    "# Lists"
   ]
  },
  {
   "cell_type": "markdown",
   "id": "ab883730",
   "metadata": {},
   "source": [
    "\n",
    "There are two types of lists — unordered and ordered. Remember to add a blank line before starting a list.\n",
    "\n",
    "To make an unordered lists, place - followed by a space before each item of the list, for example\n",
    "\n",
    "Example"
   ]
  },
  {
   "cell_type": "markdown",
   "id": "e6ef86b9",
   "metadata": {},
   "source": [
    "- item 1\n",
    "- item 2\n",
    "- item 3"
   ]
  },
  {
   "cell_type": "markdown",
   "id": "5a99a702",
   "metadata": {},
   "source": [
    "To make an ordered list, place 1. followed by a space before each item of the list. You don't need to manually increase the number, it will be done automatically. This is very convenient because if you want to insert a new item into the list, you won't have to update the numbers for the items that follow it.\n",
    "\n",
    "Example"
   ]
  },
  {
   "cell_type": "markdown",
   "id": "981f99c8",
   "metadata": {},
   "source": [
    "1. item 1\n",
    "1. item 2\n",
    "1. item 3"
   ]
  },
  {
   "cell_type": "markdown",
   "id": "6d88ce86",
   "metadata": {},
   "source": [
    "Lists can also be nested on multiple levels. However, try to keep it shallow (two levels at most)\n",
    "\n",
    "**Example of a two-level unordered list**"
   ]
  },
  {
   "cell_type": "markdown",
   "id": "340325ae",
   "metadata": {},
   "source": [
    "- item 1\n",
    "    - sub-item 1.1\n",
    "    - sub-item 1.2\n",
    "- item 2\n",
    "    - sub-item 2.1\n",
    "    - sub-item 2.2"
   ]
  },
  {
   "cell_type": "markdown",
   "id": "3fe6ca58",
   "metadata": {},
   "source": [
    "**Example of a two-level ordered list**"
   ]
  },
  {
   "cell_type": "markdown",
   "id": "fa5603bb",
   "metadata": {},
   "source": [
    "1. item 1\n",
    "    - sub-item 1.1\n",
    "    - sub-item 1.2\n",
    "1. item 2\n",
    "    - sub-item 2.1\n",
    "    - sub-item 2.2"
   ]
  },
  {
   "cell_type": "markdown",
   "id": "f45ccfac",
   "metadata": {},
   "source": [
    "# Emphasis\n"
   ]
  },
  {
   "cell_type": "markdown",
   "id": "73cdfb6b",
   "metadata": {},
   "source": [
    "This one is simple"
   ]
  },
  {
   "cell_type": "markdown",
   "id": "42080b3d",
   "metadata": {},
   "source": [
    "- **Make bold** will Make bold\n",
    "- *Make italic* will Make italic\n",
    "- ***Make bold and italic*** will Make bold and italic"
   ]
  },
  {
   "cell_type": "markdown",
   "id": "2cccb8e4",
   "metadata": {},
   "source": [
    "# Strike through"
   ]
  },
  {
   "cell_type": "markdown",
   "id": "3bbf2575",
   "metadata": {},
   "source": [
    "Example"
   ]
  },
  {
   "cell_type": "markdown",
   "id": "527caa65",
   "metadata": {},
   "source": [
    " ~~Strike through~~"
   ]
  },
  {
   "cell_type": "markdown",
   "id": "3ac0991c",
   "metadata": {},
   "source": [
    "# Code fences"
   ]
  },
  {
   "cell_type": "markdown",
   "id": "7f24fa55",
   "metadata": {},
   "source": [
    "Code fences are used to emphasize texts that should be understood as a coding element such as a variable name, an expression, or a whole code block.\n",
    "\n",
    "The inline code format is used for short elements such as a number, a variable name, or an expression. These elements stay in the line with normal texts (thus the name inline). To use the inline code format, wrap your code in a pair of single backticks `"
   ]
  },
  {
   "cell_type": "markdown",
   "id": "05e865fe",
   "metadata": {},
   "source": [
    "# Example of inline code"
   ]
  },
  {
   "cell_type": "markdown",
   "id": "152b7086",
   "metadata": {},
   "source": [
    "- Numbers: `42` -> 42\n",
    "- Variable names: `profit` -> profit\n",
    "- Expressions: `y = 3*x + 1` -> y = 3*x + 1"
   ]
  },
  {
   "cell_type": "markdown",
   "id": "0f526e9f",
   "metadata": {},
   "source": [
    "In contrast, the **code-block** style is for a block of code, which normally spans more than one line. To use code-block style, wrap your code in a pair of **triple backticks** ```. You can specify the **language** to take advantage of syntax highlighting"
   ]
  },
  {
   "cell_type": "markdown",
   "id": "49026910",
   "metadata": {},
   "source": [
    "```python\n",
    "def say_hi(name):\n",
    "    print(f\"Hello {name}\")\n",
    "    print(\"Have a good day\")\n",
    "```"
   ]
  },
  {
   "cell_type": "markdown",
   "id": "80f5015a",
   "metadata": {},
   "source": [
    "# Latex"
   ]
  },
  {
   "cell_type": "markdown",
   "id": "8d5879f5",
   "metadata": {},
   "source": [
    "Markdown supports Latex syntax so you can type math formulas easily. Similar to code fences, there are inline (use $) and block ($$) math formulas. Copy and try the following examples in your notebook.\n",
    "\n",
    "**Inline latex**"
   ]
  },
  {
   "cell_type": "markdown",
   "id": "69dafde6",
   "metadata": {},
   "source": [
    "The probability mass function for a binomial distribution is given by  $f(x) = {n \\choose x} p^{x} (1-p)^{n-x}$"
   ]
  },
  {
   "cell_type": "markdown",
   "id": "33c0a613",
   "metadata": {},
   "source": [
    "**Block latex**"
   ]
  },
  {
   "cell_type": "markdown",
   "id": "577eafdb",
   "metadata": {},
   "source": [
    "$$\n",
    "M = \\begin{bmatrix}a_1 & b_1\\\\\n",
    "a_2 & b_2 \\\\\n",
    "a_3 & b_3\n",
    "\\end{bmatrix}\n",
    "$$"
   ]
  },
  {
   "cell_type": "markdown",
   "id": "6d387f4e",
   "metadata": {},
   "source": [
    "# Links"
   ]
  },
  {
   "cell_type": "markdown",
   "id": "44305ff3",
   "metadata": {},
   "source": [
    "Here is how to embed a link"
   ]
  },
  {
   "cell_type": "markdown",
   "id": "5a870ad2",
   "metadata": {},
   "source": [
    "If some think you don't know, use [Google](https://www.google.com)"
   ]
  },
  {
   "cell_type": "markdown",
   "id": "aa880df3",
   "metadata": {},
   "source": [
    "# Remark 1"
   ]
  },
  {
   "cell_type": "markdown",
   "id": "e863b279",
   "metadata": {},
   "source": [
    "The syntax introduced so far is enough for you to have a nice-looking notebook. I rarely use any Markdown features beyond this level. Remember, the most important thing is the quality of your analysis. Don’t bother too much with fancy formatting. However, on some occasions, you might need a bit of fanciness. If so, then read the next section."
   ]
  },
  {
   "cell_type": "markdown",
   "id": "9c94c68c",
   "metadata": {},
   "source": [
    "# Advanced Markdown syntax"
   ]
  },
  {
   "cell_type": "markdown",
   "id": "986e42f6",
   "metadata": {},
   "source": [
    "# Blockquotes"
   ]
  },
  {
   "cell_type": "markdown",
   "id": "747f18de",
   "metadata": {},
   "source": [
    "As the name suggests, block quotes are used for quotes or excerpts. You start a blockquote with >, for example"
   ]
  },
  {
   "cell_type": "markdown",
   "id": "9c6c39eb",
   "metadata": {},
   "source": [
    "> My advice to you is to get married: if you find a good wife you’ll be happy; if not, you’ll become a philosopher (Socrates)"
   ]
  },
  {
   "cell_type": "markdown",
   "id": "317c7180",
   "metadata": {},
   "source": [
    "For multi-paragraph block quotes, add a blank line between paragraphs and remember to start every line with > as in the following example"
   ]
  },
  {
   "cell_type": "markdown",
   "id": "46b56bb7",
   "metadata": {},
   "source": [
    "> My advice to you is to get married: if you find a good wife you’ll be happy; if not, you’ll become a philosopher (Socrates)\n",
    ">\n",
    "> Behind every great man is a woman rolling her eyes (Jim Carrey)"
   ]
  },
  {
   "cell_type": "markdown",
   "id": "6c6fbeaa",
   "metadata": {},
   "source": [
    "# Images"
   ]
  },
  {
   "cell_type": "markdown",
   "id": "f45018e1",
   "metadata": {},
   "source": [
    "To insert an image, use the following syntax **![Caption](path_to_the_image)**. You can use an absolute or a relative path."
   ]
  },
  {
   "cell_type": "markdown",
   "id": "33bcfdcf",
   "metadata": {},
   "source": [
    "Examples"
   ]
  },
  {
   "cell_type": "markdown",
   "id": "0080c3b1",
   "metadata": {},
   "source": [
    "![Data Scientist](https://media-exp1.licdn.com/dms/image/C4D03AQGEHsgwTFWKXA/profile-displayphoto-shrink_800_800/0/1653204916540?e=1669852800&v=beta&t=lkw1w6x5i6FjxCyAnVCUnO4zypAHMnai3maBlENtYOU)"
   ]
  },
  {
   "cell_type": "markdown",
   "id": "a83149a6",
   "metadata": {},
   "source": [
    "![Python logo](https://upload.wikimedia.org/wikipedia/commons/thumb/c/c3/Python-logo-notext.svg/242px-Python-logo-notext.svg.png)"
   ]
  },
  {
   "cell_type": "markdown",
   "id": "bb52af9f",
   "metadata": {},
   "source": [
    "# Tables"
   ]
  },
  {
   "cell_type": "markdown",
   "id": "fe3dbcb7",
   "metadata": {},
   "source": [
    "Here is an example of a table"
   ]
  },
  {
   "cell_type": "markdown",
   "id": "2d717bec",
   "metadata": {},
   "source": [
    "| id | name       | email            |\n",
    "|----|------------|------------------|\n",
    "| 1  | John Doe   | john@gmail.com   |\n",
    "| 2  | Jane Smith | jane@hotmail.com |\n",
    "| 3  | Nam Tran   | nam@yahoo.com    |"
   ]
  },
  {
   "cell_type": "markdown",
   "id": "2abc5a7b",
   "metadata": {},
   "source": [
    "However, my advice is not to type tables by yourself. Go to some (free) website that offers Markdown table generator such as this one \n",
    "\n",
    "[Markdown Tables](https://www.tablesgenerator.com/markdown_tables)"
   ]
  },
  {
   "cell_type": "markdown",
   "id": "104d0b8f",
   "metadata": {},
   "source": [
    "# Emails"
   ]
  },
  {
   "cell_type": "markdown",
   "id": "69afc2d3",
   "metadata": {},
   "source": [
    "Example"
   ]
  },
  {
   "cell_type": "markdown",
   "id": "324bc704",
   "metadata": {},
   "source": [
    "<okpalaifeakoikenna@gmail.com>"
   ]
  },
  {
   "cell_type": "markdown",
   "id": "8e3bad0f",
   "metadata": {},
   "source": [
    "# HTML"
   ]
  },
  {
   "cell_type": "markdown",
   "id": "76114c1a",
   "metadata": {},
   "source": [
    "You can also use HTML tags inside a Markdown file, and they will be parsed according to HTML rules\n",
    "\n",
    "Try the following example in your notebook"
   ]
  },
  {
   "cell_type": "markdown",
   "id": "26cea400",
   "metadata": {},
   "source": [
    "<div>\n",
    "    <p>This is a paragraph</p>\n",
    "    <p>Next one will be an unordered list</p>\n",
    "    <ul>\n",
    "        <li>item 1</li>\n",
    "        <li><b>item 1 in bold</b></li>\n",
    "        <li><span style=\"color: red;\">item 3 in red</span></li>\n",
    "    </ul>\n",
    "</div>"
   ]
  },
  {
   "cell_type": "markdown",
   "id": "6dee397e",
   "metadata": {},
   "source": [
    "# Summary 2"
   ]
  },
  {
   "cell_type": "markdown",
   "id": "a071facf",
   "metadata": {},
   "source": [
    "The following summarizes all the Markdown syntax you need to know."
   ]
  },
  {
   "cell_type": "markdown",
   "id": "439df3c1",
   "metadata": {},
   "source": [
    "**Headings**\n",
    "\n",
    "\n",
    "# Level 1\n",
    "## Level 2\n",
    "### Level 3\n",
    "#### Level 4\n",
    "##### Level 5\n",
    "###### Level 6\n",
    "\n",
    "\n",
    "\n",
    "**Emphasis**\n",
    "\n",
    "\n",
    "\n",
    "Bold: **bold**\n",
    "Italic: *italic*\n",
    "Bold and italic: ***Bold and italic***\n",
    "Strike through: ~~Strike through~~\n",
    "\n",
    "\n",
    "**Unordered lists**\n",
    "\n",
    "\n",
    "- item 1\n",
    "- item 2\n",
    "- item 3\n",
    "\n",
    "\n",
    "**Ordered list**\n",
    "\n",
    "\n",
    "1. item 1\n",
    "1. item 2\n",
    "1. item 3\n",
    "\n",
    "\n",
    "\n",
    "**Nested lists**\n",
    "\n",
    "\n",
    "\n",
    "- item 1\n",
    "    - sub-item 1.1\n",
    "    - sub-item 1.2\n",
    "- item 2\n",
    "    - sub-item 2.1\n",
    "    - sub-item 2.2\n",
    "\n",
    "\n",
    "**Mixed nested lists**\n",
    "\n",
    "\n",
    "\n",
    "1. item 1\n",
    "    - sub-item 1.1\n",
    "    - sub-item 1.2\n",
    "1. item 2\n",
    "    - sub-item 2.1\n",
    "    - sub-item 2.2\n",
    "\n",
    "**Inline code**\n",
    "\n",
    "Numbers: `42`\n",
    "Variable names: `profit`\n",
    "Expressions: `y = 3*x + 1`\n",
    "\n",
    "\n",
    "**Block code**\n",
    "\n",
    "\n",
    "```python\n",
    "def say_hi(name):\n",
    "    print(f\"Hello {name}\")\n",
    "    print(\"Have a good day\")\n",
    "```\n",
    "\n",
    "\n",
    "**Inline Latex**\n",
    "\n",
    "\n",
    "$E = mc^2$\n",
    "Block Latex\n",
    "$$\n",
    "M = \\begin{bmatrix}a_1 & b_1\\\\\n",
    "a_2 & b_2 \\\\\n",
    "a_3 & b_3\n",
    "\\end{bmatrix}\n",
    "$$\n",
    "\n",
    "\n",
    "**Links**\n",
    "\n",
    "\n",
    "[Google](https://www.google.com)\n",
    "\n",
    "\n",
    "**Single-paragraph quotes**\n",
    "\n",
    "\n",
    "> This is a quote\n",
    "Multi-paragraph quotes\n",
    "> This is the first paragraph\n",
    ">\n",
    "> This is the second paragraph\n",
    "\n",
    "\n",
    "**Images**\n",
    "\n",
    "\n",
    "![Caption](path_to_the_image)\n",
    "\n",
    "\n",
    "\n",
    "**Tables**\n",
    "\n",
    "\n",
    "\n",
    "| id | name       | email            |\n",
    "|----|------------|------------------|\n",
    "| 1  | John Doe   | john@gmail.com   |\n",
    "| 2  | Jane Smith | jane@hotmail.com |\n",
    "| 3  | Nam Tran   | nam@yahoo.com    |\n",
    "\n",
    "\n",
    "\n",
    "**Emails**\n",
    "\n",
    "\n",
    "<okpalaifeakoikenna@.com>\n",
    "\n",
    "\n",
    "\n",
    "**HTML**\n",
    "\n",
    "\n",
    "\n",
    "\n",
    "<div>\n",
    "    <p>This is a paragraph</p>\n",
    "    <p>Next one will be an unordered list</p>\n",
    "    <ul>\n",
    "        <li>item 1</li>\n",
    "        <li><b>item 1 in bold</b></li>\n",
    "        <li><span style=\"color: red;\">item 3 in red</span></li>\n",
    "    </ul>\n",
    "</div>\n",
    "\n",
    "\n",
    "\n",
    "**Horizontal lines**\n",
    "\n",
    "---\n",
    "\n",
    "**Foot notes**\n",
    "\n",
    "This line will have a foot note [^1]\n",
    "[^1]: here is the foot note"
   ]
  },
  {
   "cell_type": "markdown",
   "id": "b234762b",
   "metadata": {},
   "source": [
    "# Navigation\n",
    "\n",
    "For The Next article: Click Here[GitHub](https://github.com/coodjet)\n",
    "Follow: Click Here[Linkedin](https://www.linkedin.com/in/coodjet/)\n",
    "\n"
   ]
  },
  {
   "cell_type": "code",
   "execution_count": null,
   "id": "de9fc0cf",
   "metadata": {},
   "outputs": [],
   "source": []
  }
 ],
 "metadata": {
  "kernelspec": {
   "display_name": "Python 3 (ipykernel)",
   "language": "python",
   "name": "python3"
  },
  "language_info": {
   "codemirror_mode": {
    "name": "ipython",
    "version": 3
   },
   "file_extension": ".py",
   "mimetype": "text/x-python",
   "name": "python",
   "nbconvert_exporter": "python",
   "pygments_lexer": "ipython3",
   "version": "3.9.12"
  }
 },
 "nbformat": 4,
 "nbformat_minor": 5
}
